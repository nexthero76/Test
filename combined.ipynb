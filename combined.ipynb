{
 "cells": [
  {
   "cell_type": "code",
   "execution_count": 13,
   "metadata": {},
   "outputs": [],
   "source": [
    "import os\n",
    "import pandas as pd"
   ]
  },
  {
   "cell_type": "code",
   "execution_count": 14,
   "metadata": {},
   "outputs": [],
   "source": [
    "path = r\"./Engineering Test Files\"\n",
    "file_lists = []\n",
    "for _, _, files in os.walk(path):\n",
    "    for file_item in files:\n",
    "        file_info = os.path.splitext(file_item)\n",
    "        if file_info[0] != \"Combined\" and file_info[1] == \".csv\":\n",
    "            file_lists.append(file_item)"
   ]
  },
  {
   "cell_type": "code",
   "execution_count": 15,
   "metadata": {},
   "outputs": [],
   "source": [
    "combined_dict={}\n",
    "for file_item in file_lists:\n",
    "    path = r\"./Engineering Test Files/\" + file_item\n",
    "    file_name = os.path.splitext(file_item)[0]\n",
    "    df = pd.read_csv(path)\n",
    "    for item in df['Source IP']:\n",
    "        combined_dict[item] = file_name\n",
    "\n",
    "ip_index = []\n",
    "for key in combined_dict.keys():\n",
    "    first_elem = int(key.split('.')[0])\n",
    "    ip_index.append(first_elem)\n",
    "\n",
    "data2 = {\"Source IP\": combined_dict.keys(), \"Environment\": combined_dict.values()}\n",
    "combined_df = pd.DataFrame(data2,index=ip_index)\n",
    "combined_df.sort_index().to_csv(\"./Engineering Test Files/Combined.csv\", index=False)\n"
   ]
  },
  {
   "cell_type": "code",
   "execution_count": null,
   "metadata": {},
   "outputs": [],
   "source": []
  },
  {
   "cell_type": "code",
   "execution_count": null,
   "metadata": {},
   "outputs": [],
   "source": []
  },
  {
   "cell_type": "code",
   "execution_count": null,
   "metadata": {},
   "outputs": [],
   "source": []
  },
  {
   "cell_type": "code",
   "execution_count": null,
   "metadata": {},
   "outputs": [],
   "source": []
  }
 ],
 "metadata": {
  "interpreter": {
   "hash": "572a19b453e9a14be7f4122f0a6bf09df750d9bfdbb637dc6e6976250a82bbf7"
  },
  "kernelspec": {
   "display_name": "Python 3",
   "language": "python",
   "name": "python3"
  },
  "language_info": {
   "codemirror_mode": {
    "name": "ipython",
    "version": 3
   },
   "file_extension": ".py",
   "mimetype": "text/x-python",
   "name": "python",
   "nbconvert_exporter": "python",
   "pygments_lexer": "ipython3",
   "version": "3.8.8"
  }
 },
 "nbformat": 4,
 "nbformat_minor": 2
}
